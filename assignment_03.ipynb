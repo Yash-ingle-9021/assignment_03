{
 "cells": [
  {
   "cell_type": "code",
   "execution_count": 1,
   "metadata": {},
   "outputs": [
    {
     "name": "stdout",
     "output_type": "stream",
     "text": [
      "3nd Feb :- ASSIGNMENT_03\n"
     ]
    }
   ],
   "source": [
    "print(\"3nd Feb :- ASSIGNMENT_03\")"
   ]
  },
  {
   "cell_type": "code",
   "execution_count": 8,
   "metadata": {},
   "outputs": [
    {
     "name": "stdout",
     "output_type": "stream",
     "text": [
      "Q_1_ANS :- def(default) keyword is used to create a function\n",
      "[1, 2, 3, 4, 5, 6, 7, 8, 9, 10, 11, 12, 13, 14, 15, 16, 17, 18, 19, 20, 21, 22, 23, 24, 25]\n",
      "odd number list\n",
      "[1, 3, 5, 7, 9, 11, 13, 15, 17, 19, 21, 23, 25]\n"
     ]
    }
   ],
   "source": [
    "print(\"Q_1_ANS :- def(default) keyword is used to create a function\")\n",
    "l = []\n",
    "l1 = []\n",
    "for i in range(1,26):\n",
    "    l.append(i)\n",
    "print(l)\n",
    "print(\"odd number list\")\n",
    "for j in l:\n",
    "    if j %2 !=0:\n",
    "        l1.append(j)\n",
    "print(l1)\n"
   ]
  },
  {
   "cell_type": "code",
   "execution_count": 61,
   "metadata": {},
   "outputs": [
    {
     "name": "stdout",
     "output_type": "stream",
     "text": [
      "Q_2_ANS :- We can use *args and **kwargs as arguments of a function when you are unsure about the number of arguments to pass in a function  1. *args allows us to pass a variable number of non-keyword arguments to a Python function. In the function, we should use an asterisk (*) before the parameter name to pass a variable number of arguments.  2. **kwargs allows us to pass a variable number of keyword arguments to a Python function. In the function, we use the double-asterisk (**) before the parameter name to denote this type of argument.\n",
      "EX :- *args \n",
      "26\n",
      "80\n",
      "EX :- **kwargs \n",
      "30\n",
      "50\n"
     ]
    }
   ],
   "source": [
    "print(\"Q_2_ANS :- We can use *args and **kwargs as arguments of a function when you are unsure about the number of arguments to pass in a function  1. *args allows us to pass a variable number of non-keyword arguments to a Python function. In the function, we should use an asterisk (*) before the parameter name to pass a variable number of arguments.  2. **kwargs allows us to pass a variable number of keyword arguments to a Python function. In the function, we use the double-asterisk (**) before the parameter name to denote this type of argument.\")\n",
    "\n",
    "# **************** *args *******************\n",
    "print(\"EX :- *args \")\n",
    "\n",
    "def add(*numbers):\n",
    "    total = 0\n",
    "    for num in numbers:\n",
    "        total += num\n",
    "    return total\n",
    "print(add(2, 3, 5, 7, 9))\n",
    "print(add(5, 7, 8, 10, 20,30))\n",
    "\n",
    "# **************** **kwargs *******************\n",
    "print(\"EX :- **kwargs \")\n",
    "\n",
    "def total_fruits(**fruits):\n",
    "    total = 0\n",
    "    for amount in fruits.values():\n",
    "        total += amount\n",
    "    return total\n",
    "print(total_fruits(banana=5, mango=7, apple=8, oranges=10))\n",
    "print(total_fruits(banana=5, mango=7, apple=8, oranges=10,watermilon=20))\n"
   ]
  },
  {
   "cell_type": "code",
   "execution_count": 31,
   "metadata": {},
   "outputs": [
    {
     "name": "stdout",
     "output_type": "stream",
     "text": [
      "Q_3_ANS :- iterator is used to iter iterables like (string,list,set,tuple,dict), with the help of iter() function. And it does not iter non iterables like (int,float,boolen) \n",
      "first five element in a iterator list\n",
      "[2, 4, 6, 8, 10]\n"
     ]
    }
   ],
   "source": [
    "print(\"Q_3_ANS :- iterator is used to iter iterables like (string,list,set,tuple,dict), with the help of iter() function. And it does not iter non iterables like (int,float,boolen) \")\n",
    "l = [2,4,6,8,10,12,14,16,18,20]\n",
    "l1 = iter(l)\n",
    "l2 = []\n",
    "for i in l:    \n",
    "    if i == 12:\n",
    "        break\n",
    "    l2.append(i)\n",
    "print(\"first five element in a iterator list\")\n",
    "print(l2)\n"
   ]
  },
  {
   "cell_type": "code",
   "execution_count": 9,
   "metadata": {},
   "outputs": [
    {
     "name": "stdout",
     "output_type": "stream",
     "text": [
      "Q_4_ANS :- 1. Generator function is used to memory management. Generator function is generate one by one outcome with out holding outcome.  And  2. yield keyword is used to create generator fumction. Yield is use we can pass any kind of arguments and return value that value can return , yield just like return \n",
      "0\n",
      "1\n",
      "1\n",
      "2\n",
      "3\n",
      "5\n",
      "8\n",
      "Using for loop\n",
      "0\n",
      "1\n",
      "1\n",
      "2\n",
      "3\n",
      "5\n",
      "8\n"
     ]
    }
   ],
   "source": [
    "print(\"Q_4_ANS :- 1. Generator function is used to memory management. Generator function is generate one by one outcome with out holding outcome.  And  2. yield keyword is used to create generator fumction. Yield is use we can pass any kind of arguments and return value that value can return , yield just like return \")\n",
    "\n",
    "def fib(limit):\n",
    "    a,b = 0,1\n",
    "    while a<limit:\n",
    "     yield a\n",
    "     a,b = b, a+b\n",
    "\n",
    "y = fib(10)\n",
    "\n",
    "print(next(y))\n",
    "print(next(y))\n",
    "print(next(y))\n",
    "print(next(y))\n",
    "print(next(y))\n",
    "print(next(y))\n",
    "print(next(y))\n",
    "\n",
    "print(\"Using for loop\")\n",
    "for i in fib(10):\n",
    "    print(i)"
   ]
  },
  {
   "cell_type": "code",
   "execution_count": 21,
   "metadata": {},
   "outputs": [
    {
     "name": "stdout",
     "output_type": "stream",
     "text": [
      "Q_5_ANS :- \n",
      "Prime number 1 to 20 \n",
      "2\n",
      "3\n",
      "5\n",
      "7\n",
      "11\n",
      "13\n",
      "17\n",
      "19\n",
      "23\n",
      "29\n",
      "31\n",
      "37\n",
      "41\n",
      "43\n",
      "47\n",
      "53\n",
      "59\n",
      "61\n",
      "67\n",
      "71\n"
     ]
    }
   ],
   "source": [
    "print(\"Q_5_ANS :- \")\n",
    "print(\"Prime number 2 to 20 \")\n",
    "from math import sqrt\n",
    "\n",
    "def is_prime(n):\n",
    "    if (n <= 1):\n",
    "        return False\n",
    "    if (n == 2):\n",
    "        return True\n",
    "    if (n % 2 == 0):\n",
    "        return False\n",
    "\n",
    "    i = 3\n",
    "    while i <= sqrt(n):\n",
    "        if n % i == 0:\n",
    "            return False\n",
    "        i = i + 2\n",
    "\n",
    "    return True\n",
    "def prime_generator():\n",
    "    n = 1\n",
    "    while True:\n",
    "        n += 1\n",
    "        if is_prime(n):\n",
    "            yield n\n",
    "generator = prime_generator()\n",
    "\n",
    "for i in range(20):\n",
    "    print(next(generator))"
   ]
  },
  {
   "cell_type": "code",
   "execution_count": 27,
   "metadata": {},
   "outputs": [
    {
     "name": "stdout",
     "output_type": "stream",
     "text": [
      "Q_6_ANS :- \n",
      "Fibonacci series generateed   0 to 10\n",
      "0\n",
      "1\n",
      "1\n",
      "2\n",
      "3\n",
      "5\n",
      "8\n",
      "13\n",
      "21\n",
      "34\n"
     ]
    }
   ],
   "source": [
    "print(\"Q_6_ANS :- \")\n",
    "print(\"Fibonacci series generateed \",\" 0 to\",num)\n",
    "num = int(input(\"Enter your number\"))\n",
    "i = 0\n",
    "First_Value = 0\n",
    "Second_Value = 1\n",
    "while(i < num):\n",
    "    if(i <= 1):\n",
    "        Next = i\n",
    "    else:\n",
    "        Next = First_Value + Second_Value\n",
    "        First_Value = Second_Value\n",
    "        Second_Value = Next\n",
    "    print(Next)\n",
    "    i = i + 1"
   ]
  },
  {
   "cell_type": "code",
   "execution_count": 38,
   "metadata": {},
   "outputs": [
    {
     "name": "stdout",
     "output_type": "stream",
     "text": [
      "Q_7_ANS :- \n"
     ]
    },
    {
     "data": {
      "text/plain": [
       "['P', 'W', 'S', 'K', 'I', 'L', 'L', 'S']"
      ]
     },
     "execution_count": 38,
     "metadata": {},
     "output_type": "execute_result"
    }
   ],
   "source": [
    "print(\"Q_7_ANS :- \")\n",
    "s = \"pwskills\"\n",
    "[i.upper() for i in s ]"
   ]
  },
  {
   "cell_type": "code",
   "execution_count": 54,
   "metadata": {},
   "outputs": [
    {
     "name": "stdout",
     "output_type": "stream",
     "text": [
      "Q_8_ANS :- \n",
      "Palindrome\n",
      "number: yashhsay\n",
      "reverse: yashhsay\n"
     ]
    }
   ],
   "source": [
    "print(\"Q_8_ANS :- \")\n",
    "num = input(\"Enter your palindrome number\")\n",
    "rev = \"\"\n",
    "for i in num:\n",
    "    rev = i + rev\n",
    "print(\"Palindrome\") if num == rev else print(\"Not Palindrome\")\n",
    "\n",
    "print(\"number: \" + str(num))\n",
    "print(\"reverse: \" + str(rev))"
   ]
  },
  {
   "cell_type": "code",
   "execution_count": 60,
   "metadata": {},
   "outputs": [
    {
     "name": "stdout",
     "output_type": "stream",
     "text": [
      "Q_9_ANS :- \n",
      "[1, 3, 5, 7, 9, 11, 13, 15, 17, 19, 21, 23, 25, 27, 29, 31, 33, 35, 37, 39, 41, 43, 45, 47, 49, 51, 53, 55, 57, 59, 61, 63, 65, 67, 69, 71, 73, 75, 77, 79, 81, 83, 85, 87, 89, 91, 93, 95, 97, 99]\n"
     ]
    }
   ],
   "source": [
    "print(\"Q_9_ANS :- \")\n",
    "l1 = []\n",
    "for i in range(1,100):\n",
    "    l1.append(i)\n",
    "\n",
    "odd = [num for num in l1 if num % 2 == 1]\n",
    "\n",
    "print(odd)\n"
   ]
  },
  {
   "cell_type": "code",
   "execution_count": null,
   "metadata": {},
   "outputs": [],
   "source": []
  }
 ],
 "metadata": {
  "kernelspec": {
   "display_name": "Python 3.10.0 64-bit",
   "language": "python",
   "name": "python3"
  },
  "language_info": {
   "codemirror_mode": {
    "name": "ipython",
    "version": 3
   },
   "file_extension": ".py",
   "mimetype": "text/x-python",
   "name": "python",
   "nbconvert_exporter": "python",
   "pygments_lexer": "ipython3",
   "version": "3.10.0"
  },
  "orig_nbformat": 4,
  "vscode": {
   "interpreter": {
    "hash": "fdeaa5d4d36968213c2982d2716b964fdcbe01a872db07f82123c6518902f24d"
   }
  }
 },
 "nbformat": 4,
 "nbformat_minor": 2
}
